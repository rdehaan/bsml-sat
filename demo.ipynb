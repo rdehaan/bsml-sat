{
 "cells": [
  {
   "cell_type": "code",
   "execution_count": 1,
   "id": "887c7820-2246-4de9-ba16-6239d6c68e92",
   "metadata": {},
   "outputs": [],
   "source": [
    "from bsml_sat import *"
   ]
  },
  {
   "cell_type": "markdown",
   "id": "59c5e3e3-f50d-4701-9711-abc8fbaa0bd5",
   "metadata": {},
   "source": [
    "## Some BSML formulas\n",
    "Let's start by collecting some BSML formulas that we'll use to call the reasoner on."
   ]
  },
  {
   "cell_type": "code",
   "execution_count": 2,
   "id": "e495cc5b-60c7-4778-b72b-8ddc76765f27",
   "metadata": {},
   "outputs": [],
   "source": [
    "form0 = Or(Var(1),Var(2))\n",
    "form1 = Diamond(Or(Var(1),Var(2)))\n",
    "form2 = Or(Diamond(Var(1)),Diamond(Var(2)))\n",
    "form3 = And(Diamond(Var(1)),Diamond(Var(2)))\n",
    "form4 = Neg(form1)\n",
    "form5 = Neg(form4)\n",
    "form6 = And(Neg(Diamond(Var(1))),Neg(Diamond(Var(2))))\n",
    "form7 = Diamond(Neg(And(Var(1),Var(2))))\n",
    "form8 = And(Diamond(Neg(Var(1))),Diamond(Neg(Var(2))))\n",
    "form9 = Diamond(Or(Neg(Var(1)), Neg(Var(2))))\n",
    "form10 = Diamond(Neg(And(Var(1), Var(2))))"
   ]
  },
  {
   "cell_type": "markdown",
   "id": "dc099a2b-f568-4269-bae1-07b4d8812680",
   "metadata": {},
   "source": [
    "## Narrow Scope FC\n",
    "The narrow scope free-choice entailment corresponds to the following unsatisfiable formula. The reasoner finds that it's unsatisfiable (with suitably high values for the number of worlds, variables, and states used in the state tree datastructure to look for models)."
   ]
  },
  {
   "cell_type": "code",
   "execution_count": 3,
   "id": "7a69e308-aa71-4d13-86b1-62e930f37f73",
   "metadata": {},
   "outputs": [
    {
     "name": "stdout",
     "output_type": "stream",
     "text": [
      ".. Grounding ..\n",
      ".. Solving ..\n",
      "\n",
      "BSML formula unsatisfiable!\n",
      "\n",
      ".. Done solving ..\n",
      "Total solving time: 12.73 sec\n"
     ]
    }
   ],
   "source": [
    "formula = And(enrich_formula(form1), Neg(form3)) # unsat; narrow scope fc entailment\n",
    "solve_bsml_sat(\n",
    "    formula,\n",
    "    max_num_worlds=4,\n",
    "    num_vars=3,\n",
    "    max_size_state_tree=8,\n",
    "    use_minimization_heuristics=False,\n",
    ")"
   ]
  },
  {
   "cell_type": "markdown",
   "id": "1da75a6a-f80a-4568-baf0-f4b04d94a44f",
   "metadata": {},
   "source": [
    "## Wide Scope FC\n",
    "For wide scope free-choice, the entailment doesn't hold, corresponding to a satisfiable formula."
   ]
  },
  {
   "cell_type": "code",
   "execution_count": 4,
   "id": "c1f8f1a3-f566-463e-b4da-34ac5b9f84c9",
   "metadata": {},
   "outputs": [
    {
     "name": "stdout",
     "output_type": "stream",
     "text": [
      ".. Grounding ..\n",
      ".. Solving ..\n",
      "\n",
      "## Model witnessing satisfiability ##\n",
      "relation(1,1)\n",
      "relation(2,2)\n",
      "relation(2,3)\n",
      "relation(3,2)\n",
      "relation(3,3)\n",
      "state(1)\n",
      "state(2)\n",
      "state(3)\n",
      "valuation(1,1)\n",
      "valuation(2,2)\n",
      "valuation(3,2)\n",
      "world(1)\n",
      "world(2)\n",
      "world(3)\n",
      "\n",
      "BSML formula satisfiable!\n",
      "\n",
      ".. Done solving ..\n",
      "Total solving time: 0.01 sec\n"
     ]
    }
   ],
   "source": [
    "formula = And(enrich_formula(form2), Neg(form3)) # sat; wide scope fc non-entailment (for arbitrary R)\n",
    "solve_bsml_sat(\n",
    "    formula,\n",
    "    max_num_worlds=3,\n",
    "    num_vars=2,\n",
    "    max_size_state_tree=7,\n",
    "    use_minimization_heuristics=False,\n",
    ")"
   ]
  },
  {
   "cell_type": "markdown",
   "id": "0a5bfa71-e72a-47e5-af7f-df7adc5a7b48",
   "metadata": {},
   "source": [
    "We can call the reasoner again with some (optional) heuristics to lead to a smaller witnessing model (paying a price in terms of computation time)."
   ]
  },
  {
   "cell_type": "code",
   "execution_count": 5,
   "id": "464a9bbc-2c60-44a4-87ef-8a01805b1a13",
   "metadata": {},
   "outputs": [
    {
     "name": "stdout",
     "output_type": "stream",
     "text": [
      ".. Grounding ..\n",
      ".. Solving ..\n",
      "\n",
      "## Model witnessing satisfiability ##\n",
      "relation(1,1)\n",
      "relation(2,2)\n",
      "relation(3,3)\n",
      "state(1)\n",
      "state(3)\n",
      "valuation(1,2)\n",
      "valuation(3,1)\n",
      "world(1)\n",
      "world(2)\n",
      "world(3)\n",
      "\n",
      "BSML formula satisfiable!\n",
      "\n",
      ".. Done solving ..\n",
      "Total solving time: 1.20 sec\n"
     ]
    }
   ],
   "source": [
    "formula = And(enrich_formula(form2), Neg(form3)) # sat; wide scope fc non-entailment (for arbitrary R)\n",
    "solve_bsml_sat(\n",
    "    formula,\n",
    "    max_num_worlds=3,\n",
    "    num_vars=2,\n",
    "    max_size_state_tree=7,\n",
    "    use_minimization_heuristics=True,\n",
    ")"
   ]
  },
  {
   "cell_type": "markdown",
   "id": "b6d43a47-5496-4fac-99d6-fa7d14a22b0f",
   "metadata": {},
   "source": [
    "## Dual prohibition\n",
    "\n",
    "For dual prohibition, we again have entailment, so an unsatisfiable formula."
   ]
  },
  {
   "cell_type": "code",
   "execution_count": 6,
   "id": "d699c9de-5d9b-46f7-9b77-9f0d6a4258c1",
   "metadata": {},
   "outputs": [
    {
     "name": "stdout",
     "output_type": "stream",
     "text": [
      ".. Grounding ..\n",
      ".. Solving ..\n",
      "\n",
      "BSML formula unsatisfiable!\n",
      "\n",
      ".. Done solving ..\n",
      "Total solving time: 2.97 sec\n"
     ]
    }
   ],
   "source": [
    "formula = And(enrich_formula(form4), Neg(form6)) # unsat; dual prohibition entailment\n",
    "solve_bsml_sat(\n",
    "    formula,\n",
    "    max_num_worlds=4,\n",
    "    num_vars=3,\n",
    "    max_size_state_tree=8,\n",
    "    use_minimization_heuristics=False,\n",
    ")"
   ]
  },
  {
   "cell_type": "markdown",
   "id": "3b053709-dec5-4240-abb0-e7d7d07c5be6",
   "metadata": {},
   "source": [
    "## Double negation"
   ]
  },
  {
   "cell_type": "code",
   "execution_count": 7,
   "id": "c4d3ff02-cf0b-4609-b95e-d0cf4efea5ba",
   "metadata": {},
   "outputs": [
    {
     "name": "stdout",
     "output_type": "stream",
     "text": [
      ".. Grounding ..\n",
      ".. Solving ..\n",
      "\n",
      "BSML formula unsatisfiable!\n",
      "\n",
      ".. Done solving ..\n",
      "Total solving time: 2.12 sec\n"
     ]
    }
   ],
   "source": [
    "formula = And(enrich_formula(form5), Neg(form3)) # unsat; double negation entailment\n",
    "solve_bsml_sat(\n",
    "    formula,\n",
    "    max_num_worlds=4,\n",
    "    num_vars=3,\n",
    "    max_size_state_tree=8,\n",
    "    use_minimization_heuristics=False,\n",
    ")"
   ]
  },
  {
   "cell_type": "markdown",
   "id": "95e9c499-897d-4647-a42d-742a32e9fb2d",
   "metadata": {},
   "source": [
    "## Modal disjunction\n",
    "\n",
    "For modal disjunction, in general the entailment doesn't hold, so we get a satisfiable formula."
   ]
  },
  {
   "cell_type": "code",
   "execution_count": 8,
   "id": "a9ede65e-d6ba-4b15-ab26-d5b7e9a76c0c",
   "metadata": {},
   "outputs": [
    {
     "name": "stdout",
     "output_type": "stream",
     "text": [
      ".. Grounding ..\n",
      ".. Solving ..\n",
      "\n",
      "## Model witnessing satisfiability ##\n",
      "state(2)\n",
      "valuation(2,1)\n",
      "valuation(2,2)\n",
      "world(1)\n",
      "world(2)\n",
      "\n",
      "BSML formula satisfiable!\n",
      "\n",
      ".. Done solving ..\n",
      "Total solving time: 0.02 sec\n"
     ]
    }
   ],
   "source": [
    "formula = And(enrich_formula(form0), Neg(form3)) # sat; modal disjunction non-entailment (for arbitrary R)\n",
    "solve_bsml_sat(\n",
    "    formula,\n",
    "    max_num_worlds=4,\n",
    "    num_vars=3,\n",
    "    max_size_state_tree=7,\n",
    "    use_minimization_heuristics=True,\n",
    ")"
   ]
  },
  {
   "cell_type": "markdown",
   "id": "edd41548-0323-4b8b-b7f0-19772ae81346",
   "metadata": {},
   "source": [
    "## Detachability\n",
    "\n",
    "For detachability, again, no entailment so a satisfiable formula."
   ]
  },
  {
   "cell_type": "code",
   "execution_count": 9,
   "id": "01c58296-5e0b-4672-b583-6b5ed35e8fbe",
   "metadata": {},
   "outputs": [
    {
     "name": "stdout",
     "output_type": "stream",
     "text": [
      ".. Grounding ..\n",
      ".. Solving ..\n",
      "\n",
      "## Model witnessing satisfiability ##\n",
      "relation(1,1)\n",
      "state(1)\n",
      "valuation(1,2)\n",
      "world(1)\n",
      "\n",
      "BSML formula satisfiable!\n",
      "\n",
      ".. Done solving ..\n",
      "Total solving time: 0.13 sec\n"
     ]
    }
   ],
   "source": [
    "formula = And(enrich_formula(form7), Neg(form8)) # sat; detachability non-entailment\n",
    "solve_bsml_sat(\n",
    "    formula,\n",
    "    max_num_worlds=4,\n",
    "    num_vars=3,\n",
    "    max_size_state_tree=7,\n",
    "    use_minimization_heuristics=True,\n",
    ")"
   ]
  },
  {
   "cell_type": "markdown",
   "id": "f379baca-082f-4cf3-a63d-e14282b02214",
   "metadata": {},
   "source": [
    "## Some logical equivalences\n",
    "\n",
    "When taking a logical equivalence, entailments in both directions hold,\n",
    "so we get two unsatisfiable formulas."
   ]
  },
  {
   "cell_type": "code",
   "execution_count": 10,
   "id": "c5b77aee-07dd-4ba7-83fa-1632b8f9cf3d",
   "metadata": {},
   "outputs": [
    {
     "name": "stdout",
     "output_type": "stream",
     "text": [
      ".. Grounding ..\n",
      ".. Solving ..\n",
      "\n",
      "BSML formula unsatisfiable!\n",
      "\n",
      ".. Done solving ..\n",
      "Total solving time: 8.68 sec\n"
     ]
    }
   ],
   "source": [
    "formula = And(form9, Neg(form10)) # unsat; validity\n",
    "solve_bsml_sat(\n",
    "    formula,\n",
    "    max_num_worlds=4,\n",
    "    num_vars=3,\n",
    "    max_size_state_tree=8,\n",
    "    use_minimization_heuristics=False,\n",
    ")"
   ]
  },
  {
   "cell_type": "code",
   "execution_count": 11,
   "id": "854ba2b1-325f-445a-bdad-4ea0fbe1356e",
   "metadata": {},
   "outputs": [
    {
     "name": "stdout",
     "output_type": "stream",
     "text": [
      ".. Grounding ..\n",
      ".. Solving ..\n",
      "\n",
      "BSML formula unsatisfiable!\n",
      "\n",
      ".. Done solving ..\n",
      "Total solving time: 10.63 sec\n"
     ]
    }
   ],
   "source": [
    "formula = And(form10, Neg(form9)) # unsat; validity\n",
    "solve_bsml_sat(\n",
    "    formula,\n",
    "    max_num_worlds=4,\n",
    "    num_vars=3,\n",
    "    max_size_state_tree=8,\n",
    "    use_minimization_heuristics=False,\n",
    ")"
   ]
  }
 ],
 "metadata": {
  "kernelspec": {
   "display_name": "Python 3 (ipykernel)",
   "language": "python",
   "name": "python3"
  },
  "language_info": {
   "codemirror_mode": {
    "name": "ipython",
    "version": 3
   },
   "file_extension": ".py",
   "mimetype": "text/x-python",
   "name": "python",
   "nbconvert_exporter": "python",
   "pygments_lexer": "ipython3",
   "version": "3.12.1"
  }
 },
 "nbformat": 4,
 "nbformat_minor": 5
}
