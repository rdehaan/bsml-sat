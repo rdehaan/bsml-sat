{
 "cells": [
  {
   "cell_type": "code",
   "execution_count": 1,
   "id": "887c7820-2246-4de9-ba16-6239d6c68e92",
   "metadata": {},
   "outputs": [],
   "source": [
    "from bsml_sat import *"
   ]
  },
  {
   "cell_type": "markdown",
   "id": "59c5e3e3-f50d-4701-9711-abc8fbaa0bd5",
   "metadata": {},
   "source": [
    "# Prototype BSML Reasoner\n",
    "\n",
    "This notebook illustrates a prototype for a reasoner for BSML (Bilateral State-based Modal Logic)—see, e.g., the paper ['State-based Modal Logics for Free Choice'](https://arxiv.org/pdf/2305.11777) (Aloni, Anttila & Yang 2024). The reasoning algorithm is based on answer set programming (ASP).\n",
    "\n",
    "We will first describe the general working of the reasoning algorithm. Then we will see how to invoke it, using a number of example formulas—taken from the paper ['Logic and conversation: The case of free choice'](https://doi.org/10.3765/sp.15.5) (Aloni 2023, Section 9). Finally, we will describe a number of research directions that can be taken to improve this reasoner, many of which are particularly apt for (smaller and larger) student research projects.\n",
    "\n",
    "## General working\n",
    "- The reasoner is given two BSML formulas $\\varphi_1$ and $\\varphi_2$, and the aim is to find a model-state pair $M,s$ that supports $\\varphi_1$ and that does not support $\\varphi_2$—that is, $M,s \\models \\varphi_1$ and $M,s \\not\\models \\varphi_2$. Note, this latter condition is not the same as $M,s$ antisupporting $\\varphi_2$.\n",
    "  - This can be used to check whether $\\varphi_1 \\models \\varphi_2$—i.e., this is the case if and only if there is no (suitable) pair $M,s$ such that $M,s \\models \\varphi_1$ and $M,s \\not\\models \\varphi_2$.\n",
    "- Two ASP solvers (clingo) working together, in CEGAR-style (*Counterexample-Guided Abstraction Refinement*).\n",
    "  - The first solver produces pairs $M,s$ (within certain bounds) that support $\\varphi_1$.\n",
    "  - Whenever such a pair $M,s$ with $M,s \\models \\varphi_1$ is found, this pair $M,s$ is passed to the second solver, which checks whether $M,s \\models \\varphi_2$.\n",
    "  - If the second solver finds that $M,s \\models \\varphi_2$, a new constraint is passed to the first solver ruling out (this particular value for $M,s$ and the search for the first solver continues.\n",
    "  - If the second solver stops with concluding that $M,s \\not\\models \\varphi_2$, the search stops and $M,s$ is a solution.\n",
    "- The encoding (for the first solver) uses symmetry breaking constraints that rule out many solutions that are isomorphic. (This helps speed up the algorithm for cases where $\\varphi_1 \\models \\varphi_2$. These symmetry breaking constraints are based on those in the paper ['Symmetry-Breaking Constraints for Directed Graphs'](doi.org/10.3233/FAIA240998) (Rintanen & Rankooh 2024).\n",
    "\n",
    "## Demonstration\n",
    "### Some BSML formulas\n",
    "Let's start by collecting some BSML formulas that we'll use to call the reasoner on."
   ]
  },
  {
   "cell_type": "code",
   "execution_count": 2,
   "id": "e495cc5b-60c7-4778-b72b-8ddc76765f27",
   "metadata": {},
   "outputs": [],
   "source": [
    "form0 = Or(Var(1),Var(2))\n",
    "form1 = Diamond(Or(Var(1),Var(2)))\n",
    "form2 = Or(Diamond(Var(1)),Diamond(Var(2)))\n",
    "form3 = And(Diamond(Var(1)),Diamond(Var(2)))\n",
    "form4 = Neg(form1)\n",
    "form5 = Neg(form4)\n",
    "form6 = And(Neg(Diamond(Var(1))),Neg(Diamond(Var(2))))\n",
    "form7 = Diamond(Neg(And(Var(1),Var(2))))\n",
    "form8 = And(Diamond(Neg(Var(1))),Diamond(Neg(Var(2))))\n",
    "form9 = Diamond(Or(Neg(Var(1)), Neg(Var(2))))\n",
    "form10 = Diamond(Neg(And(Var(1), Var(2))))"
   ]
  },
  {
   "cell_type": "markdown",
   "id": "dc099a2b-f568-4269-bae1-07b4d8812680",
   "metadata": {},
   "source": [
    "### Narrow Scope FC\n",
    "The narrow scope free-choice entailment corresponds to the following formulas. The reasoner finds that there is no solution (with suitably high values for the number of worlds and variables)."
   ]
  },
  {
   "cell_type": "code",
   "execution_count": 3,
   "id": "7a69e308-aa71-4d13-86b1-62e930f37f73",
   "metadata": {},
   "outputs": [
    {
     "name": "stdout",
     "output_type": "stream",
     "text": [
      ".. Grounding ..\n",
      ".. Solving ..\n",
      "\n",
      "Finished the search within time limit..\n",
      "\n",
      ".. Done solving ..\n",
      "Total solving time: 16.87 sec\n"
     ]
    }
   ],
   "source": [
    "sat_formula = enrich_formula(form1)\n",
    "unsat_formula = form3\n",
    "custom_program = \"\"\n",
    "# unsat; narrow scope fc entailment\n",
    "\n",
    "solve_bsml_sat(\n",
    "    sat_formula,\n",
    "    unsat_formula,\n",
    "    max_num_worlds=3,\n",
    "    num_vars=3,\n",
    "    timeout=300,\n",
    "    custom_program=custom_program,\n",
    "    use_minimization_heuristics=True,\n",
    ")"
   ]
  },
  {
   "cell_type": "markdown",
   "id": "1da75a6a-f80a-4568-baf0-f4b04d94a44f",
   "metadata": {},
   "source": [
    "### Wide Scope FC\n",
    "For wide scope free-choice, the entailment doesn't hold in general, corresponding to a solution."
   ]
  },
  {
   "cell_type": "code",
   "execution_count": 4,
   "id": "c1f8f1a3-f566-463e-b4da-34ac5b9f84c9",
   "metadata": {},
   "outputs": [
    {
     "name": "stdout",
     "output_type": "stream",
     "text": [
      ".. Grounding ..\n",
      ".. Solving ..\n",
      "\n",
      "## Solution ##\n",
      "relation(3,4)\n",
      "relation(4,3)\n",
      "state(3)\n",
      "state(4)\n",
      "valuation(3,1)\n",
      "valuation(4,2)\n",
      "world(1)\n",
      "world(2)\n",
      "world(3)\n",
      "world(4)\n",
      "Finished the search within time limit..\n",
      "\n",
      ".. Done solving ..\n",
      "Total solving time: 0.07 sec\n"
     ]
    }
   ],
   "source": [
    "sat_formula = enrich_formula(form2)\n",
    "unsat_formula = form3\n",
    "custom_program = \"\"\n",
    "# sat; wide scope fc non-entailment (for arbitrary R)\n",
    "\n",
    "solve_bsml_sat(\n",
    "    sat_formula,\n",
    "    unsat_formula,\n",
    "    max_num_worlds=4,\n",
    "    num_vars=3,\n",
    "    timeout=300,\n",
    "    custom_program=custom_program,\n",
    "    use_minimization_heuristics=True,\n",
    ")"
   ]
  },
  {
   "cell_type": "markdown",
   "id": "60c1832b-fb2b-497c-b4bc-2c60be5efca6",
   "metadata": {},
   "source": [
    "When we require the relation $R$ to be indisputable in $M,s$, the entailment holds, so there is no solution."
   ]
  },
  {
   "cell_type": "code",
   "execution_count": 5,
   "id": "6293f03d-5db3-4fa4-85b5-9cb0c24313ed",
   "metadata": {},
   "outputs": [
    {
     "name": "stdout",
     "output_type": "stream",
     "text": [
      ".. Grounding ..\n",
      ".. Solving ..\n",
      "\n",
      "Finished the search within time limit..\n",
      "\n",
      ".. Done solving ..\n",
      "Total solving time: 10.91 sec\n"
     ]
    }
   ],
   "source": [
    "sat_formula = enrich_formula(form2)\n",
    "unsat_formula = form3\n",
    "custom_program = \"\"\"\n",
    "    % Require that R is indisputable in the given model\n",
    "    :- state(R,W1), state(R,W2), ft_root(R),\n",
    "        relation(W1,W3), not relation(W2,W3).\n",
    "\"\"\"\n",
    "# unsat; wide scope fc non-entailment (for indisputable R)\n",
    "\n",
    "solve_bsml_sat(\n",
    "    sat_formula,\n",
    "    unsat_formula,\n",
    "    max_num_worlds=3,\n",
    "    num_vars=3,\n",
    "    timeout=300,\n",
    "    custom_program=custom_program,\n",
    "    use_minimization_heuristics=True,\n",
    ")"
   ]
  },
  {
   "cell_type": "markdown",
   "id": "b6d43a47-5496-4fac-99d6-fa7d14a22b0f",
   "metadata": {},
   "source": [
    "### Dual prohibition\n",
    "\n",
    "For dual prohibition, we again have entailment, so no solution."
   ]
  },
  {
   "cell_type": "code",
   "execution_count": 6,
   "id": "d699c9de-5d9b-46f7-9b77-9f0d6a4258c1",
   "metadata": {},
   "outputs": [
    {
     "name": "stdout",
     "output_type": "stream",
     "text": [
      ".. Grounding ..\n",
      ".. Solving ..\n",
      "\n",
      "Finished the search within time limit..\n",
      "\n",
      ".. Done solving ..\n",
      "Total solving time: 7.93 sec\n"
     ]
    }
   ],
   "source": [
    "sat_formula = enrich_formula(form4)\n",
    "unsat_formula = form6\n",
    "custom_program = \"\"\n",
    "# unsat; dual prohibition entailment\n",
    "\n",
    "solve_bsml_sat(\n",
    "    sat_formula,\n",
    "    unsat_formula,\n",
    "    max_num_worlds=3,\n",
    "    num_vars=3,\n",
    "    timeout=300,\n",
    "    custom_program=custom_program,\n",
    "    use_minimization_heuristics=True,\n",
    ")"
   ]
  },
  {
   "cell_type": "markdown",
   "id": "3b053709-dec5-4240-abb0-e7d7d07c5be6",
   "metadata": {},
   "source": [
    "### Double negation\n",
    "\n",
    "For double negation, we again have entailment, so no solution."
   ]
  },
  {
   "cell_type": "code",
   "execution_count": 7,
   "id": "c4d3ff02-cf0b-4609-b95e-d0cf4efea5ba",
   "metadata": {},
   "outputs": [
    {
     "name": "stdout",
     "output_type": "stream",
     "text": [
      ".. Grounding ..\n",
      ".. Solving ..\n",
      "\n",
      "Finished the search within time limit..\n",
      "\n",
      ".. Done solving ..\n",
      "Total solving time: 17.35 sec\n"
     ]
    }
   ],
   "source": [
    "sat_formula = enrich_formula(form5)\n",
    "unsat_formula = form3\n",
    "custom_program = \"\"\n",
    "# unsat; double negation entailment\n",
    "\n",
    "solve_bsml_sat(\n",
    "    sat_formula,\n",
    "    unsat_formula,\n",
    "    max_num_worlds=3,\n",
    "    num_vars=3,\n",
    "    timeout=300,\n",
    "    custom_program=custom_program,\n",
    "    use_minimization_heuristics=True,\n",
    ")"
   ]
  },
  {
   "cell_type": "markdown",
   "id": "95e9c499-897d-4647-a42d-742a32e9fb2d",
   "metadata": {},
   "source": [
    "### Modal disjunction\n",
    "\n",
    "For modal disjunction, in general the entailment doesn't hold, so we get a solution."
   ]
  },
  {
   "cell_type": "code",
   "execution_count": 8,
   "id": "a9ede65e-d6ba-4b15-ab26-d5b7e9a76c0c",
   "metadata": {},
   "outputs": [
    {
     "name": "stdout",
     "output_type": "stream",
     "text": [
      ".. Grounding ..\n",
      ".. Solving ..\n",
      "\n",
      "## Solution ##\n",
      "state(1)\n",
      "state(4)\n",
      "valuation(1,2)\n",
      "valuation(4,1)\n",
      "world(1)\n",
      "world(2)\n",
      "world(3)\n",
      "world(4)\n",
      "Finished the search within time limit..\n",
      "\n",
      ".. Done solving ..\n",
      "Total solving time: 0.00 sec\n"
     ]
    }
   ],
   "source": [
    "sat_formula = enrich_formula(form0)\n",
    "unsat_formula = form3\n",
    "custom_program = \"\"\n",
    "# sat; modal disjunction non-entailment (for arbitrary R)\n",
    "\n",
    "solve_bsml_sat(\n",
    "    sat_formula,\n",
    "    unsat_formula,\n",
    "    max_num_worlds=4,\n",
    "    num_vars=3,\n",
    "    timeout=300,\n",
    "    custom_program=custom_program,\n",
    "    use_minimization_heuristics=True,\n",
    ")"
   ]
  },
  {
   "cell_type": "markdown",
   "id": "d510c33c-27b0-4178-ad0e-f73857d627de",
   "metadata": {},
   "source": [
    "However, when we require the relation $R$ to be state-based in $M,s$, the entailment holds, so there is no solution."
   ]
  },
  {
   "cell_type": "code",
   "execution_count": 9,
   "id": "71409be4-c9e1-49a8-a895-d4ef068d423c",
   "metadata": {},
   "outputs": [
    {
     "name": "stdout",
     "output_type": "stream",
     "text": [
      ".. Grounding ..\n",
      ".. Solving ..\n",
      "\n",
      "Finished the search within time limit..\n",
      "\n",
      ".. Done solving ..\n",
      "Total solving time: 0.80 sec\n"
     ]
    }
   ],
   "source": [
    "sat_formula = enrich_formula(form0)\n",
    "unsat_formula = form3\n",
    "custom_program = \"\"\"\n",
    "    % Require that R is state-based in the given model\n",
    "    :- state(R,W1), ft_root(R),\n",
    "        relation(W1,W2), not state(R,W2).\n",
    "    :- state(R,W1), ft_root(R),\n",
    "        not relation(W1,W2), state(R,W2).\n",
    "\"\"\"\n",
    "# unsat; modal disjunction entailment (for state-based R)\n",
    "\n",
    "solve_bsml_sat(\n",
    "    sat_formula,\n",
    "    unsat_formula,\n",
    "    max_num_worlds=3,\n",
    "    num_vars=3,\n",
    "    timeout=300,\n",
    "    custom_program=custom_program,\n",
    "    use_minimization_heuristics=True,\n",
    ")"
   ]
  },
  {
   "cell_type": "markdown",
   "id": "edd41548-0323-4b8b-b7f0-19772ae81346",
   "metadata": {},
   "source": [
    "### Detachability\n",
    "\n",
    "For detachability, again, no entailment so no solution."
   ]
  },
  {
   "cell_type": "code",
   "execution_count": 10,
   "id": "01c58296-5e0b-4672-b583-6b5ed35e8fbe",
   "metadata": {},
   "outputs": [
    {
     "name": "stdout",
     "output_type": "stream",
     "text": [
      ".. Grounding ..\n",
      ".. Solving ..\n",
      "\n",
      "## Solution ##\n",
      "relation(3,2)\n",
      "state(3)\n",
      "valuation(2,2)\n",
      "world(1)\n",
      "world(2)\n",
      "world(3)\n",
      "Finished the search within time limit..\n",
      "\n",
      ".. Done solving ..\n",
      "Total solving time: 0.01 sec\n"
     ]
    }
   ],
   "source": [
    "sat_formula = enrich_formula(form7)\n",
    "unsat_formula = form8\n",
    "custom_program = \"\"\n",
    "# sat; detachability non-entailment\n",
    "\n",
    "solve_bsml_sat(\n",
    "    sat_formula,\n",
    "    unsat_formula,\n",
    "    max_num_worlds=3,\n",
    "    num_vars=3,\n",
    "    timeout=300,\n",
    "    custom_program=custom_program,\n",
    "    use_minimization_heuristics=True,\n",
    ")"
   ]
  },
  {
   "cell_type": "markdown",
   "id": "f379baca-082f-4cf3-a63d-e14282b02214",
   "metadata": {},
   "source": [
    "### Some logical equivalences\n",
    "\n",
    "When taking a logical equivalence, entailments in both directions hold,\n",
    "so in both cases, we get no solution."
   ]
  },
  {
   "cell_type": "code",
   "execution_count": 11,
   "id": "c5b77aee-07dd-4ba7-83fa-1632b8f9cf3d",
   "metadata": {},
   "outputs": [
    {
     "name": "stdout",
     "output_type": "stream",
     "text": [
      ".. Grounding ..\n",
      ".. Solving ..\n",
      "\n",
      "Finished the search within time limit..\n",
      "\n",
      ".. Done solving ..\n",
      "Total solving time: 108.39 sec\n"
     ]
    }
   ],
   "source": [
    "sat_formula = form9\n",
    "unsat_formula = form10\n",
    "custom_program = \"\"\n",
    "# unsat; validity\n",
    "\n",
    "solve_bsml_sat(\n",
    "    sat_formula,\n",
    "    unsat_formula,\n",
    "    max_num_worlds=3,\n",
    "    num_vars=3,\n",
    "    timeout=300,\n",
    "    custom_program=custom_program,\n",
    "    use_minimization_heuristics=True,\n",
    ")"
   ]
  },
  {
   "cell_type": "code",
   "execution_count": 12,
   "id": "854ba2b1-325f-445a-bdad-4ea0fbe1356e",
   "metadata": {},
   "outputs": [
    {
     "name": "stdout",
     "output_type": "stream",
     "text": [
      ".. Grounding ..\n",
      ".. Solving ..\n",
      "\n",
      "Finished the search within time limit..\n",
      "\n",
      ".. Done solving ..\n",
      "Total solving time: 94.90 sec\n"
     ]
    }
   ],
   "source": [
    "sat_formula = form10\n",
    "unsat_formula = form9\n",
    "custom_program = \"\"\n",
    "# unsat; validity\n",
    "\n",
    "solve_bsml_sat(\n",
    "    sat_formula,\n",
    "    unsat_formula,\n",
    "    max_num_worlds=3,\n",
    "    num_vars=3,\n",
    "    timeout=300,\n",
    "    custom_program=custom_program,\n",
    "    use_minimization_heuristics=True,\n",
    ")"
   ]
  },
  {
   "cell_type": "markdown",
   "id": "46296b95-eb1d-4235-a0d8-90feb318855b",
   "metadata": {},
   "source": [
    "## Research directions\n",
    "\n",
    "This implementation of a BSML reasoner is only a prototype, and much remains to be explored and done. Here are some possible interesting and/or useful research directions.\n",
    "\n",
    "### More implementational directions\n",
    "- Collect a (structured) set of benchmark inputs to test the reasoner (and future improvements) on\n",
    "- Develop and describe a (text-based) file format for storing/loading BSML formulas\n",
    "- Develop this prototype reasoner into a proper Python package that can easily be installed and used\n",
    "- Set up a solving competition (for fellow students that want to try improving the reasoner)\n",
    "\n",
    "### Theoretical directions\n",
    "- Prove correctness of this approach (based on the two-solver algorithm with the particular encodings used)\n",
    "- Derive tight bounds on the size of models that need to be considered for the algorithm to be completeness (i.e., if the algorithm finds no $M,s$ within these bounds such that $M,s \\models \\varphi_1$ and $M,s \\not\\models \\varphi_2$, then it is guaranteed that $\\varphi_1 \\models \\varphi_2$).\n",
    "\n",
    "### Combined (theoretical and practical/experimental) directions\n",
    "- Develop more effective symmetry breaking constraints, for example based on a suitable notion of bisimulation. *(Difficulty: high)*\n",
    "- Develop a dedicated propagator for symmetry breaking to rule out isomorphic models (similar in style to [SAT Modulo Symmetries](https://sat-modulo-symmetries.readthedocs.io/en/latest/)). *(Difficulty: high)*\n",
    "- Develop better refinement strategies–e.g., stronger constraints that can be added to the first solver that are based on solutions that the second solver finds for some $M,s$. *(Difficulty: high)*\n",
    "- Experimenting with variants of the encodings used. *(Difficulty: medium)*\n",
    "- Experimenting with different problem-specific search heuristics. *(Difficulty: lower)*\n",
    "- Trying multi-shot solving approaches to see if that leads to better performance. *(Difficulty: medium)*\n",
    "- Developing an entirely different algorithm/encoding that is based on natural deduction proofs for BSML—see, e.g., the paper ['State-based Modal Logics for Free Choice'](https://arxiv.org/pdf/2305.11777) (Aloni, Anttila & Yang 2024). *(Difficulty: high)*"
   ]
  },
  {
   "cell_type": "code",
   "execution_count": null,
   "id": "e635f247-4867-4982-9d83-04d9f75e2a4a",
   "metadata": {},
   "outputs": [],
   "source": []
  }
 ],
 "metadata": {
  "kernelspec": {
   "display_name": "Python 3 (ipykernel)",
   "language": "python",
   "name": "python3"
  },
  "language_info": {
   "codemirror_mode": {
    "name": "ipython",
    "version": 3
   },
   "file_extension": ".py",
   "mimetype": "text/x-python",
   "name": "python",
   "nbconvert_exporter": "python",
   "pygments_lexer": "ipython3",
   "version": "3.12.1"
  }
 },
 "nbformat": 4,
 "nbformat_minor": 5
}
